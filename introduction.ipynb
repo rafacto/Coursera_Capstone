{
 "cells": [
  {
   "cell_type": "markdown",
   "metadata": {},
   "source": [
    "### Sister Cities"
   ]
  },
  {
   "cell_type": "markdown",
   "metadata": {},
   "source": [
    "#### 1. Introduction"
   ]
  },
  {
   "cell_type": "markdown",
   "metadata": {},
   "source": [
    "Sister cities are cities that establish a bond of cooperation on many factors like culture, health, education, transport, and economic development. Often the cities are located in different countries, developing a paradiplomacy relation, a relationship that does not depend on federal governments (which is what designates diplomacy). Typically, to become sisters two cities need to have similar features like number of habitants, historical facts or economic sector.  \n",
    "  \n",
    "After the recognition, the two mayorships raise several protocols for exchanging experiences such as project investment and exchange of students or entrepreneurs. The goal of this project is to verify how similar a specific city is to its sister cities based on their top venues. Thus, in the case of a habitant of that city desires to move or visit the sister cities he/she can choose that most similar to his/her hometown.  \n",
    "  \n",
    "Moving to another country is a task that requires deep research about the target city and typically takes as consideration different factors such as cultural life, attractions, language, climate, jog market, etc. Even after detailed research, many expats decide to return to their home country due to difficulties adapting to the new city. Moving to a sister city can be easier, since they share some features and have political facilitators. This solution aims to provide an extra tool to help in the decision of moving abroad: a ranked list of the sister cities of a specific city having as criteria the similarity of their top venues."
   ]
  },
  {
   "cell_type": "code",
   "execution_count": null,
   "metadata": {},
   "outputs": [],
   "source": []
  }
 ],
 "metadata": {
  "kernelspec": {
   "display_name": "Python",
   "language": "python",
   "name": "conda-env-python-py"
  },
  "language_info": {
   "codemirror_mode": {
    "name": "ipython",
    "version": 3
   },
   "file_extension": ".py",
   "mimetype": "text/x-python",
   "name": "python",
   "nbconvert_exporter": "python",
   "pygments_lexer": "ipython3",
   "version": "3.6.10"
  }
 },
 "nbformat": 4,
 "nbformat_minor": 4
}
