{
 "cells": [
  {
   "cell_type": "markdown",
   "metadata": {},
   "source": [
    "### Sister Cities"
   ]
  },
  {
   "cell_type": "markdown",
   "metadata": {},
   "source": [
    "#### 1. Introduction"
   ]
  },
  {
   "cell_type": "markdown",
   "metadata": {},
   "source": [
    "Sister cities are cities that establish a bond of cooperation on many factors like culture, health, education, transport, and economic development. Often the cities are located in different countries, developing a paradiplomacy relation, a relationship that does not depend on federal governments (which is what designates diplomacy). Typically, to become sisters two cities need to have similar features like number of habitants, historical facts or economic sector.  \n",
    "  \n",
    "After the recognition, the two mayorships raise several protocols for exchanging experiences such as project investment and exchange of students or entrepreneurs. The goal of this project is to verify how similar a specific city is to its sister cities based on their top venues. Thus, in the case of a habitant of that city desires to move or visit the sister cities he/she can choose that most similar to his/her hometown.  \n",
    "  \n",
    "Moving to another country is a task that requires deep research about the target city and typically takes as consideration different factors such as cultural life, attractions, language, climate, jog market, etc. Even after detailed research, many expats decide to return to their home country due to difficulties adapting to the new city. Moving to a sister city can be easier, since they share some features and have political facilitators. This solution aims to provide an extra tool to help in the decision of moving abroad: a ranked list of the sister cities of a specific city having as criteria the similarity of their top venues."
   ]
  },
  {
   "cell_type": "markdown",
   "metadata": {},
   "source": [
    "#### 2. Data"
   ]
  },
  {
   "cell_type": "markdown",
   "metadata": {},
   "source": [
    "The solution will take the Brasilian city of Recife as the hometown city. To obtain the Recife sister cities, Wikipedia will be consulted. Any city page in Wikipedia presents a section called “sister sisters”, however it can vary depending on the language chosen. Naturally, there is more information in the language of the country the city belongs. In the case of Recife, Wikipedia in English lists only three sister cities while the Portuguese version shows eight. Thus, this solution will scrape the Recife page in Portuguese Wikipedia to get Recife sister cities."
   ]
  },
  {
   "cell_type": "markdown",
   "metadata": {},
   "source": [
    "![Wikipedia Sister Cities](https://pbs.twimg.com/media/Cpc08EyXgAAhfuJ.jpg)"
   ]
  },
  {
   "cell_type": "markdown",
   "metadata": {},
   "source": [
    "To obtain the top venues of a city, Foursquare will be used. Foursquare is a local search-and-discovery mobile app that provides personalized recommendations of places to go near a user's current location based on users' previous browsing history and check-in history [].  They actually crowd-sourced their data and had people use their app to build their dataset and add venues and complete any missing information they had in their dataset []. The app collects information about all sorts of venues: restaurants, bars, cafes, museums, art galleries, parks, clubs, universities, schools, markets, services like laundry, etc. Each venue has a page with, among other information, a rate (from 0 to 10), description, photos and user tips. "
   ]
  },
  {
   "cell_type": "markdown",
   "metadata": {},
   "source": [
    "![Foursquare](https://mspoweruser.com/wp-content/uploads/2015/02/image_thumb1.png)"
   ]
  },
  {
   "cell_type": "markdown",
   "metadata": {},
   "source": [
    "Foursquare provides an API that allows application developers to interact with the Foursquare platform and to retrieve, among others contents, all sorts of information about the venues near a location. The request are made to an URL that look like this:"
   ]
  },
  {
   "cell_type": "raw",
   "metadata": {},
   "source": [
    "https://api.foursquare.com/v2/venues/search?client_id=FSQ_CLIENT_ID&client_secret=FSQ_CLIENT_SECRET&v=20190425&ll=40.7099,-73.9622&intent=checkin&radius=200&limit=100"
   ]
  },
  {
   "cell_type": "markdown",
   "metadata": {},
   "source": [
    "That url requests the top 100 venues in the radius of 200m of the provided location (latitude and longitude). The result is a json file that can be transformed into a pandas DataFrame and used for further data analysis. Finally, to obtain Recife’s latitude and longitude it will be used geopy library. The following example gets Recife location and use it to retrieve the top 5 venues in a radius of 200m."
   ]
  },
  {
   "cell_type": "code",
   "execution_count": 5,
   "metadata": {},
   "outputs": [
    {
     "name": "stdout",
     "output_type": "stream",
     "text": [
      "Collecting package metadata (current_repodata.json): done\n",
      "Solving environment: done\n",
      "\n",
      "## Package Plan ##\n",
      "\n",
      "  environment location: /home/jupyterlab/conda/envs/python\n",
      "\n",
      "  added / updated specs:\n",
      "    - geopy\n",
      "\n",
      "\n",
      "The following packages will be downloaded:\n",
      "\n",
      "    package                    |            build\n",
      "    ---------------------------|-----------------\n",
      "    geographiclib-1.50         |             py_0          34 KB  conda-forge\n",
      "    geopy-1.22.0               |     pyh9f0ad1d_0          63 KB  conda-forge\n",
      "    ------------------------------------------------------------\n",
      "                                           Total:          97 KB\n",
      "\n",
      "The following NEW packages will be INSTALLED:\n",
      "\n",
      "  geographiclib      conda-forge/noarch::geographiclib-1.50-py_0\n",
      "  geopy              conda-forge/noarch::geopy-1.22.0-pyh9f0ad1d_0\n",
      "\n",
      "\n",
      "\n",
      "Downloading and Extracting Packages\n",
      "geopy-1.22.0         | 63 KB     | ##################################### | 100% \n",
      "geographiclib-1.50   | 34 KB     | ##################################### | 100% \n",
      "Preparing transaction: done\n",
      "Verifying transaction: done\n",
      "Executing transaction: done\n",
      "The geograpical coordinate of Recife are -8.0641931, -34.8781517.\n"
     ]
    }
   ],
   "source": [
    "!conda install -c conda-forge geopy --yes # uncomment this line if you haven't completed the Foursquare API lab\n",
    "from geopy.geocoders import Nominatim #convert an address into latitude and longitude values\n",
    "\n",
    "address = 'Recife, BR'\n",
    "\n",
    "geolocator = Nominatim(user_agent=\"rec_explorer\")\n",
    "location = geolocator.geocode(address)\n",
    "latitude = location.latitude\n",
    "longitude = location.longitude\n",
    "print('The geograpical coordinate of Recife are {}, {}.'.format(latitude, longitude))"
   ]
  },
  {
   "cell_type": "code",
   "execution_count": 7,
   "metadata": {},
   "outputs": [
    {
     "data": {
      "text/plain": [
       "{'meta': {'code': 200, 'requestId': '5ed6f71f0f5968002500edbe'},\n",
       " 'response': {'venues': [{'id': '51a5ee27498e66c4f282fce1',\n",
       "    'name': 'Praça do Diário',\n",
       "    'location': {'lat': -8.063966329105192,\n",
       "     'lng': -34.87832044217551,\n",
       "     'labeledLatLngs': [{'label': 'display',\n",
       "       'lat': -8.063966329105192,\n",
       "       'lng': -34.87832044217551}],\n",
       "     'distance': 31,\n",
       "     'cc': 'BR',\n",
       "     'city': 'Recife',\n",
       "     'state': 'PE',\n",
       "     'country': 'Brasil',\n",
       "     'formattedAddress': ['Recife, PE', 'Brasil']},\n",
       "    'categories': [{'id': '4bf58dd8d48988d164941735',\n",
       "      'name': 'Plaza',\n",
       "      'pluralName': 'Plazas',\n",
       "      'shortName': 'Plaza',\n",
       "      'icon': {'prefix': 'https://ss3.4sqi.net/img/categories_v2/parks_outdoors/plaza_',\n",
       "       'suffix': '.png'},\n",
       "      'primary': True}],\n",
       "    'referralId': 'v-1591146491',\n",
       "    'hasPerk': False},\n",
       "   {'id': '4f5e0578e4b070e0493faacd',\n",
       "    'name': 'Praça da Independência',\n",
       "    'location': {'address': 'Av. Guararapes, 107',\n",
       "     'lat': -8.06423106857362,\n",
       "     'lng': -34.877793242595196,\n",
       "     'labeledLatLngs': [{'label': 'display',\n",
       "       'lat': -8.06423106857362,\n",
       "       'lng': -34.877793242595196}],\n",
       "     'distance': 39,\n",
       "     'postalCode': '50010-000',\n",
       "     'cc': 'BR',\n",
       "     'city': 'Recife',\n",
       "     'state': 'PE',\n",
       "     'country': 'Brasil',\n",
       "     'formattedAddress': ['Av. Guararapes, 107',\n",
       "      'Recife, PE',\n",
       "      '50010-000',\n",
       "      'Brasil']},\n",
       "    'categories': [{'id': '4bf58dd8d48988d164941735',\n",
       "      'name': 'Plaza',\n",
       "      'pluralName': 'Plazas',\n",
       "      'shortName': 'Plaza',\n",
       "      'icon': {'prefix': 'https://ss3.4sqi.net/img/categories_v2/parks_outdoors/plaza_',\n",
       "       'suffix': '.png'},\n",
       "      'primary': True}],\n",
       "    'referralId': 'v-1591146491',\n",
       "    'hasPerk': False},\n",
       "   {'id': '4c4ef338c1f5ef3b59b157ab',\n",
       "    'name': 'Itaú 1° de Março',\n",
       "    'location': {'address': 'Rua 1° de Março,25',\n",
       "     'lat': -8.064523997433755,\n",
       "     'lng': -34.87806182308177,\n",
       "     'labeledLatLngs': [{'label': 'display',\n",
       "       'lat': -8.064523997433755,\n",
       "       'lng': -34.87806182308177}],\n",
       "     'distance': 38,\n",
       "     'postalCode': '50010-070',\n",
       "     'cc': 'BR',\n",
       "     'city': 'Recife',\n",
       "     'state': 'PE',\n",
       "     'country': 'Brasil',\n",
       "     'formattedAddress': ['Rua 1° de Março,25',\n",
       "      'Recife, PE',\n",
       "      '50010-070',\n",
       "      'Brasil']},\n",
       "    'categories': [{'id': '4bf58dd8d48988d10a951735',\n",
       "      'name': 'Bank',\n",
       "      'pluralName': 'Banks',\n",
       "      'shortName': 'Bank',\n",
       "      'icon': {'prefix': 'https://ss3.4sqi.net/img/categories_v2/shops/financial_',\n",
       "       'suffix': '.png'},\n",
       "      'primary': True}],\n",
       "    'referralId': 'v-1591146491',\n",
       "    'hasPerk': False},\n",
       "   {'id': '50707ea0e4b011218ac16d0c',\n",
       "    'name': 'Ed. Brasilar',\n",
       "    'location': {'address': 'praça do diario',\n",
       "     'lat': -8.064848581225531,\n",
       "     'lng': -34.87782106315226,\n",
       "     'labeledLatLngs': [{'label': 'display',\n",
       "       'lat': -8.064848581225531,\n",
       "       'lng': -34.87782106315226}],\n",
       "     'distance': 81,\n",
       "     'cc': 'BR',\n",
       "     'country': 'Brasil',\n",
       "     'formattedAddress': ['praça do diario', 'Brasil']},\n",
       "    'categories': [{'id': '4bf58dd8d48988d130941735',\n",
       "      'name': 'Building',\n",
       "      'pluralName': 'Buildings',\n",
       "      'shortName': 'Building',\n",
       "      'icon': {'prefix': 'https://ss3.4sqi.net/img/categories_v2/building/default_',\n",
       "       'suffix': '.png'},\n",
       "      'primary': True}],\n",
       "    'referralId': 'v-1591146491',\n",
       "    'hasPerk': False},\n",
       "   {'id': '4d4414ffbbb1a1430a1c4272',\n",
       "    'name': 'Praça da Independência',\n",
       "    'location': {'address': 'Av. Guararapes, 109 - São Antônio',\n",
       "     'lat': -8.06416892731499,\n",
       "     'lng': -34.878234235898226,\n",
       "     'labeledLatLngs': [{'label': 'display',\n",
       "       'lat': -8.06416892731499,\n",
       "       'lng': -34.878234235898226}],\n",
       "     'distance': 9,\n",
       "     'postalCode': '50010-000',\n",
       "     'cc': 'BR',\n",
       "     'city': 'Recife',\n",
       "     'state': 'PE',\n",
       "     'country': 'Brasil',\n",
       "     'formattedAddress': ['Av. Guararapes, 109 - São Antônio',\n",
       "      'Recife, PE',\n",
       "      '50010-000',\n",
       "      'Brasil']},\n",
       "    'categories': [{'id': '4bf58dd8d48988d164941735',\n",
       "      'name': 'Plaza',\n",
       "      'pluralName': 'Plazas',\n",
       "      'shortName': 'Plaza',\n",
       "      'icon': {'prefix': 'https://ss3.4sqi.net/img/categories_v2/parks_outdoors/plaza_',\n",
       "       'suffix': '.png'},\n",
       "      'primary': True}],\n",
       "    'referralId': 'v-1591146491',\n",
       "    'hasPerk': False}],\n",
       "  'confident': False}}"
      ]
     },
     "execution_count": 7,
     "metadata": {},
     "output_type": "execute_result"
    }
   ],
   "source": [
    "import json # library to handle JSON files\n",
    "import requests # library to handle requests\n",
    "from pandas.io.json import json_normalize # tranform JSON file into a pandas dataframe\n",
    "\n",
    "CLIENT_ID = 'TJNIF0UICB1EMN1LETJN0YNM5DARNO3JKGK4ZJ41RT4QRT5Q' # Foursquare ID\n",
    "CLIENT_SECRET = 'RGNFFRIQEWPAQLRLTDOXQVEIISJQWRFBOTSOJWLHDBAVHVWS' # Foursquare Secret\n",
    "VERSION = '20180605' # Foursquare API version\n",
    "radius=200\n",
    "limit=5\n",
    "\n",
    "url = 'https://api.foursquare.com/v2/venues/search?client_id={}&client_secret={}&ll={},{}&v={}&radius={}&limit={}'.format(CLIENT_ID, CLIENT_SECRET, latitude, longitude, VERSION, radius, limit)\n",
    "results = requests.get(url).json()\n",
    "results"
   ]
  },
  {
   "cell_type": "code",
   "execution_count": null,
   "metadata": {},
   "outputs": [],
   "source": []
  }
 ],
 "metadata": {
  "kernelspec": {
   "display_name": "Python",
   "language": "python",
   "name": "conda-env-python-py"
  },
  "language_info": {
   "codemirror_mode": {
    "name": "ipython",
    "version": 3
   },
   "file_extension": ".py",
   "mimetype": "text/x-python",
   "name": "python",
   "nbconvert_exporter": "python",
   "pygments_lexer": "ipython3",
   "version": "3.6.10"
  }
 },
 "nbformat": 4,
 "nbformat_minor": 4
}
